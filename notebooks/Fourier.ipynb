{
 "cells": [
  {
   "cell_type": "code",
   "execution_count": null,
   "id": "b649ae9b-4c12-43bc-b941-f6fe235d9365",
   "metadata": {},
   "outputs": [],
   "source": [
    "# Importamos bibliotecas.\n",
    "using FFTW\n",
    "using DelimitedFiles\n",
    "using Plots"
   ]
  },
  {
   "cell_type": "code",
   "execution_count": null,
   "id": "95c20258-5481-4dc7-984b-0f7018fd1928",
   "metadata": {},
   "outputs": [],
   "source": [
    "# Abrimos el archivo.\n",
    "data = readdlm(\"F1.t\")\n",
    "\n",
    "# Guardamos la información.\n",
    "tiempo_completo = data[:, 1]\n",
    "F1_completo = data[:, 2]\n",
    "\n",
    "indice_especial = 10000\n",
    "tiempo = tiempo_completo[end-indice_especial:end]\n",
    "F1 = F1_completo[end-indice_especial:end]\n",
    "\n",
    "# Aplicamos la transformada de Fourier a los valores de F1.\n",
    "F1_fft = fft(F1)\n",
    "\n",
    "# Calcular la frecuencia asociada a cada componente.\n",
    "N = length(F1)\n",
    "Δt = tiempo[2] - tiempo[1]  # Suponiendo que el intervalo de tiempo es constante.\n",
    "frecuencias = (2*π)*fftfreq(N, Δt)\n",
    "magnitudes = abs.(F1_fft)\n",
    "parte_re = real.(F1_fft)\n",
    "parte_im = imag.(F1_fft)\n",
    "\n",
    "# Imprimimos la frecuencia dominante.\n",
    "idx_max = argmax(magnitudes)\n",
    "frecuencia_dom = frecuencias[idx_max]\n",
    "#frecuencia_teo = 0.9112899033804642\n",
    "println(\"Frecuencia dominante -> \", frecuencia_dom)\n",
    "#println(\"Frecuencia teórica   -> \", frecuencia_teo)\n",
    "\n",
    "# Calculamos un seno/coseno con esa frecuencia asociada.\n",
    "δ = -1.2\n",
    "oscilacion_num = maximum(F1)*cos.(frecuencia_dom .* tiempo .+ δ)\n",
    "#oscilacion_teo = maximum(F1)*cos.(frecuencia_teo.*tiempo)\n",
    "\n",
    "# Graficamos.\n",
    "plt = plot(layout = (1,2), size = (1300, 600))\n",
    "plot!(plt[1], tiempo, F1, xlabel = \"tiempo\", label = raw\"F1(t)\", title=\"Función que oscila\", xlim=(99900, 100000))\n",
    "plot!(plt[1], tiempo, oscilacion_num, label = raw\"cos_{num}(ωt)\")\n",
    "#plot!(plt[1], tiempo, oscilacion_teo, label = raw\"cos_{teo}(ωt)\")\n",
    "plot!(plt[2], frecuencias, magnitudes, xlabel=\"Frecuencias\", label = \"\", title=\"Espectro de Fourier\", xlim=(-1, 1))\n"
   ]
  }
 ],
 "metadata": {
  "kernelspec": {
   "display_name": "Julia 1.10.4",
   "language": "julia",
   "name": "julia-1.10"
  },
  "language_info": {
   "file_extension": ".jl",
   "mimetype": "application/julia",
   "name": "julia",
   "version": "1.10.4"
  }
 },
 "nbformat": 4,
 "nbformat_minor": 5
}
