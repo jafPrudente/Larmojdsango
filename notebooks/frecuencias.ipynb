{
 "cells": [
  {
   "cell_type": "code",
   "execution_count": null,
   "id": "6e07ef56-7de6-4892-8a2f-4f6b61036101",
   "metadata": {},
   "outputs": [],
   "source": [
    "# Importamos bibliotecas.\n",
    "import numpy as np\n",
    "import matplotlib.pyplot as plt"
   ]
  },
  {
   "cell_type": "code",
   "execution_count": null,
   "id": "0a7babce-4163-49bf-a1ad-a4e86f40aa7e",
   "metadata": {},
   "outputs": [],
   "source": [
    "# Definimos una función lectora.\n",
    "def lector(campo0):\n",
    "    # Definimos la ruta del archivo.\n",
    "    campo0 = str(campo0)\n",
    "    ruta = \"Exc/\" + campo0 + \"/F1.t\"\n",
    "\n",
    "    # Abrimos el archivo en sí.\n",
    "    with open(ruta, \"r\") as archivo:\n",
    "        lineas = archivo.readlines()\n",
    "\n",
    "    # Definimos los arreglos a llenar.\n",
    "    t = []\n",
    "    f = []\n",
    "\n",
    "    # Llenamos los arreglos.\n",
    "    for linea in lineas:\n",
    "        renglon = linea.split()\n",
    "        t.append(float(renglon[0]))\n",
    "        f.append(float(renglon[1]))\n",
    "\n",
    "    # Retornamos los arreglos que nos interesan con el formato de numpy.\n",
    "    return [np.array(t), np.array(f)]"
   ]
  },
  {
   "cell_type": "code",
   "execution_count": null,
   "id": "a9f19c46-d5e3-496d-8a8b-fd60aa10eca2",
   "metadata": {},
   "outputs": [],
   "source": [
    "# Definimos la función principal.\n",
    "def main(campo0, t_inicial, w_guess):\n",
    "    # Llamamos a la función lectora y guardamos el archivo.\n",
    "    data = lector(campo0)\n",
    "    t = data[0]\n",
    "    f_num = data[1]\n",
    "\n",
    "    # Calculamos el perfil numérico.\n",
    "    f_teo = -f_num[0]*np.cos(w_guess*t)\n",
    "\n",
    "    # El índice desde el cual graficar.\n",
    "    indice = np.where(t == t_inicial)[0][0]\n",
    "\n",
    "    # Graficamos.\n",
    "    plt.plot(t[indice:], f_num[indice:])\n",
    "    plt.plot(t[indice:], f_teo[indice:])\n",
    "    plt.xlabel(r'$t$')\n",
    "    plt.ylabel(r'$f(t)$')\n",
    "    plt.show()"
   ]
  },
  {
   "cell_type": "code",
   "execution_count": null,
   "id": "345c0752-cec2-4222-8c90-a6aebfd375a6",
   "metadata": {},
   "outputs": [],
   "source": [
    "# Ejecutamos.\n",
    "if __name__ == \"__main__\":\n",
    "    campo0 = '0.024'\n",
    "    w_guess = 1.0301000148197021\n",
    "    t_inicial = 98000\n",
    "\n",
    "    main(campo0, t_inicial, w_guess)"
   ]
  },
  {
   "cell_type": "code",
   "execution_count": null,
   "id": "33d037c0-9f2c-4831-86b6-944e308cc41e",
   "metadata": {},
   "outputs": [],
   "source": []
  }
 ],
 "metadata": {
  "kernelspec": {
   "display_name": "Python 3 (ipykernel)",
   "language": "python",
   "name": "python3"
  },
  "language_info": {
   "codemirror_mode": {
    "name": "ipython",
    "version": 3
   },
   "file_extension": ".py",
   "mimetype": "text/x-python",
   "name": "python",
   "nbconvert_exporter": "python",
   "pygments_lexer": "ipython3",
   "version": "3.11.2"
  }
 },
 "nbformat": 4,
 "nbformat_minor": 5
}
